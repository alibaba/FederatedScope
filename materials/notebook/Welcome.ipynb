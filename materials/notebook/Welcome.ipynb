{
 "cells": [
  {
   "cell_type": "markdown",
   "metadata": {
    "pycharm": {
     "name": "#%% md\n"
    }
   },
   "source": [
    "# Welcome to FederatedScope Playground v0.0.2\n",
    "\n",
    "Welcome to **FederatedScope Playground** (v0.0.2)! We provides a Python Notebook environment based on JupyterHub that allows you to get start with **FederatedScope**!\n",
    "\n",
    "It is effortless to execute Python code in this Playground. For example, to print \"Hello FederatedScope\", just press the play button in the upper-left corner.\n",
    "\n",
    "**Notice**: In this **FederatedScope Playground** (v0.0.2), the version of FederatedScope is 0.2.0, which might be some differences compared to the previous version, please refer to [Official Tutorial](https://federatedscope.io/docs/quick-start/) for more details.\n"
   ]
  },
  {
   "cell_type": "code",
   "execution_count": null,
   "metadata": {
    "ExecuteTime": {
     "end_time": "2022-04-08T03:10:24.034600Z",
     "start_time": "2022-04-08T03:10:24.031979Z"
    },
    "pycharm": {
     "name": "#%%\n"
    }
   },
   "outputs": [],
   "source": [
    "print(\"Hello FederatedScope\")"
   ]
  },
  {
   "cell_type": "markdown",
   "metadata": {
    "pycharm": {
     "name": "#%% md\n"
    }
   },
   "source": [
    "We have provided several toy examples to help you get start with FederatedScope. In this playground, all the dependencies have been installed in advance, so let's get started!"
   ]
  },
  {
   "cell_type": "code",
   "execution_count": null,
   "metadata": {
    "ExecuteTime": {
     "start_time": "2022-04-08T03:10:21.884Z"
    },
    "pycharm": {
     "name": "#%%\n"
    }
   },
   "outputs": [],
   "source": [
    "# Installation is REQUIRED in the playground.\n",
    "# You should execute the following code to install the stable version of FederatedScope.\n",
    "\n",
    "!git clone -b playground/v0.0.2 https://github.com/alibaba/FederatedScope.git\n",
    "\n",
    "# `cd FederatedScope` if you are NOT in the playground.\n",
    "import os\n",
    "os.chdir('FederatedScope')\n",
    "\n",
    "!python setup.py install"
   ]
  },
  {
   "cell_type": "code",
   "execution_count": null,
   "metadata": {
    "ExecuteTime": {
     "start_time": "2022-04-08T03:10:21.884Z"
    },
    "pycharm": {
     "name": "#%%\n"
    }
   },
   "outputs": [],
   "source": [
    "import federatedscope\n",
    "\n",
    "federatedscope.__version__"
   ]
  },
  {
   "cell_type": "markdown",
   "metadata": {
    "pycharm": {
     "name": "#%% md\n"
    }
   },
   "source": [
    "Okay, you're ready to get start with **FederatedScope**! \n",
    "\n",
    "**NOTE**: your files in the playground will not be saved when you close JupyterHub."
   ]
  },
  {
   "cell_type": "markdown",
   "metadata": {
    "pycharm": {
     "name": "#%% md\n"
    }
   },
   "source": [
    "## Tutorials\n",
    "* [01. Quick start](./01_quick_start.ipynb)\n",
    "* [02. Start your own case](./02_start_your_own_case.ipynb)\n",
    "* [03. Try personalized federated learning](./03_personalized_FL.ipynb)\n",
    "\n",
    "For more features about **FederatedScope**, please refer to [official documents](https://federatedscope.io/docs/quick-start/)."
   ]
  },
  {
   "cell_type": "code",
   "execution_count": null,
   "metadata": {
    "pycharm": {
     "name": "#%%\n"
    }
   },
   "outputs": [],
   "source": []
  }
 ],
 "metadata": {
  "kernelspec": {
   "display_name": "Python 3 (ipykernel)",
   "language": "python",
   "name": "python3"
  },
  "language_info": {
   "codemirror_mode": {
    "name": "ipython",
    "version": 3
   },
   "file_extension": ".py",
   "mimetype": "text/x-python",
   "name": "python",
   "nbconvert_exporter": "python",
   "pygments_lexer": "ipython3",
   "version": "3.9.13"
  }
 },
 "nbformat": 4,
 "nbformat_minor": 4
}